{
 "cells": [
  {
   "cell_type": "code",
   "execution_count": 39,
   "id": "7f30345e",
   "metadata": {},
   "outputs": [],
   "source": [
    "import pandas as pd\n",
    "test = pd.read_csv('/Users/krc/IEEE-CIS_Fraud_Detection/test.csv')"
   ]
  },
  {
   "cell_type": "code",
   "execution_count": 2,
   "id": "9251d9a8",
   "metadata": {},
   "outputs": [
    {
     "data": {
      "text/html": [
       "<div>\n",
       "<style scoped>\n",
       "    .dataframe tbody tr th:only-of-type {\n",
       "        vertical-align: middle;\n",
       "    }\n",
       "\n",
       "    .dataframe tbody tr th {\n",
       "        vertical-align: top;\n",
       "    }\n",
       "\n",
       "    .dataframe thead th {\n",
       "        text-align: right;\n",
       "    }\n",
       "</style>\n",
       "<table border=\"1\" class=\"dataframe\">\n",
       "  <thead>\n",
       "    <tr style=\"text-align: right;\">\n",
       "      <th></th>\n",
       "      <th>ProductCD</th>\n",
       "      <th>card4</th>\n",
       "      <th>card6</th>\n",
       "      <th>P_emaildomain</th>\n",
       "    </tr>\n",
       "  </thead>\n",
       "  <tbody>\n",
       "    <tr>\n",
       "      <th>0</th>\n",
       "      <td>W</td>\n",
       "      <td>visa</td>\n",
       "      <td>debit</td>\n",
       "      <td>gmail.com</td>\n",
       "    </tr>\n",
       "    <tr>\n",
       "      <th>1</th>\n",
       "      <td>W</td>\n",
       "      <td>visa</td>\n",
       "      <td>debit</td>\n",
       "      <td>aol.com</td>\n",
       "    </tr>\n",
       "    <tr>\n",
       "      <th>2</th>\n",
       "      <td>W</td>\n",
       "      <td>visa</td>\n",
       "      <td>debit</td>\n",
       "      <td>hotmail.com</td>\n",
       "    </tr>\n",
       "    <tr>\n",
       "      <th>3</th>\n",
       "      <td>W</td>\n",
       "      <td>visa</td>\n",
       "      <td>debit</td>\n",
       "      <td>gmail.com</td>\n",
       "    </tr>\n",
       "    <tr>\n",
       "      <th>4</th>\n",
       "      <td>W</td>\n",
       "      <td>mastercard</td>\n",
       "      <td>debit</td>\n",
       "      <td>gmail.com</td>\n",
       "    </tr>\n",
       "    <tr>\n",
       "      <th>...</th>\n",
       "      <td>...</td>\n",
       "      <td>...</td>\n",
       "      <td>...</td>\n",
       "      <td>...</td>\n",
       "    </tr>\n",
       "    <tr>\n",
       "      <th>506686</th>\n",
       "      <td>C</td>\n",
       "      <td>mastercard</td>\n",
       "      <td>debit</td>\n",
       "      <td>gmail.com</td>\n",
       "    </tr>\n",
       "    <tr>\n",
       "      <th>506687</th>\n",
       "      <td>C</td>\n",
       "      <td>mastercard</td>\n",
       "      <td>debit</td>\n",
       "      <td>hotmail.com</td>\n",
       "    </tr>\n",
       "    <tr>\n",
       "      <th>506688</th>\n",
       "      <td>W</td>\n",
       "      <td>visa</td>\n",
       "      <td>debit</td>\n",
       "      <td>hotmail.com</td>\n",
       "    </tr>\n",
       "    <tr>\n",
       "      <th>506689</th>\n",
       "      <td>W</td>\n",
       "      <td>mastercard</td>\n",
       "      <td>debit</td>\n",
       "      <td>hotmail.com</td>\n",
       "    </tr>\n",
       "    <tr>\n",
       "      <th>506690</th>\n",
       "      <td>C</td>\n",
       "      <td>visa</td>\n",
       "      <td>credit</td>\n",
       "      <td>hotmail.com</td>\n",
       "    </tr>\n",
       "  </tbody>\n",
       "</table>\n",
       "<p>506691 rows × 4 columns</p>\n",
       "</div>"
      ],
      "text/plain": [
       "       ProductCD       card4   card6 P_emaildomain\n",
       "0              W        visa   debit     gmail.com\n",
       "1              W        visa   debit       aol.com\n",
       "2              W        visa   debit   hotmail.com\n",
       "3              W        visa   debit     gmail.com\n",
       "4              W  mastercard   debit     gmail.com\n",
       "...          ...         ...     ...           ...\n",
       "506686         C  mastercard   debit     gmail.com\n",
       "506687         C  mastercard   debit   hotmail.com\n",
       "506688         W        visa   debit   hotmail.com\n",
       "506689         W  mastercard   debit   hotmail.com\n",
       "506690         C        visa  credit   hotmail.com\n",
       "\n",
       "[506691 rows x 4 columns]"
      ]
     },
     "execution_count": 2,
     "metadata": {},
     "output_type": "execute_result"
    }
   ],
   "source": [
    "test.select_dtypes('object')"
   ]
  },
  {
   "cell_type": "code",
   "execution_count": 34,
   "id": "b4ff8612",
   "metadata": {},
   "outputs": [
    {
     "data": {
      "text/plain": [
       "9         NaN\n",
       "13        NaN\n",
       "16        NaN\n",
       "20        NaN\n",
       "22        NaN\n",
       "         ... \n",
       "506613    NaN\n",
       "506630    NaN\n",
       "506647    NaN\n",
       "506660    NaN\n",
       "506663    NaN\n",
       "Name: P_emaildomain, Length: 69192, dtype: object"
      ]
     },
     "execution_count": 34,
     "metadata": {},
     "output_type": "execute_result"
    }
   ],
   "source": [
    "test[test['P_emaildomain'].isnull()]['P_emaildomain']"
   ]
  },
  {
   "cell_type": "code",
   "execution_count": 38,
   "id": "ef1a745b",
   "metadata": {},
   "outputs": [
    {
     "data": {
      "text/plain": [
       "32"
      ]
     },
     "execution_count": 38,
     "metadata": {},
     "output_type": "execute_result"
    }
   ],
   "source": [
    "test['P_emaildomain'].iloc[22]"
   ]
  },
  {
   "cell_type": "code",
   "execution_count": 30,
   "id": "08efdd04",
   "metadata": {},
   "outputs": [],
   "source": [
    "num = []\n",
    "for i in index:\n",
    "    n = test['P_emaildomain'].iloc[i]\n",
    "    if n not in num:\n",
    "        num.append(n)"
   ]
  },
  {
   "cell_type": "code",
   "execution_count": 31,
   "id": "375deec9",
   "metadata": {},
   "outputs": [
    {
     "data": {
      "text/plain": [
       "[32]"
      ]
     },
     "execution_count": 31,
     "metadata": {},
     "output_type": "execute_result"
    }
   ],
   "source": [
    "num"
   ]
  },
  {
   "cell_type": "code",
   "execution_count": 22,
   "id": "c9c3aabf",
   "metadata": {},
   "outputs": [
    {
     "data": {
      "text/plain": [
       "32"
      ]
     },
     "execution_count": 22,
     "metadata": {},
     "output_type": "execute_result"
    }
   ],
   "source": [
    "test['P_emaildomain'].iloc[9] #2 3 #32"
   ]
  },
  {
   "cell_type": "code",
   "execution_count": 40,
   "id": "e0aae392",
   "metadata": {},
   "outputs": [],
   "source": [
    "from sklearn import preprocessing\n",
    "for f in test.columns:\n",
    "    if test[f].dtype == 'object':\n",
    "        le = preprocessing.LabelEncoder()\n",
    "        le.fit(list(test[f].values))\n",
    "        test[f] = le.transform(list(test[f].values))\n",
    "    else :\n",
    "        pass"
   ]
  },
  {
   "cell_type": "code",
   "execution_count": 44,
   "id": "765f8a8b",
   "metadata": {},
   "outputs": [],
   "source": [
    "import numpy as np\n",
    "test['card4'] = test['card4'].replace(2,np.nan)\n",
    "test['card6'] = test['card4'].replace(3,np.nan)\n",
    "test['P_emaildomain'] = test['P_emaildomain'].replace(32,np.nan)"
   ]
  },
  {
   "cell_type": "code",
   "execution_count": 45,
   "id": "71516df0",
   "metadata": {},
   "outputs": [
    {
     "name": "stdout",
     "output_type": "stream",
     "text": [
      "<class 'pandas.core.frame.DataFrame'>\n",
      "RangeIndex: 506691 entries, 0 to 506690\n",
      "Columns: 182 entries, Unnamed: 0 to V321\n",
      "dtypes: float64(182)\n",
      "memory usage: 703.6 MB\n"
     ]
    }
   ],
   "source": [
    "from sklearn.impute import KNNImputer\n",
    "imputer = KNNImputer(n_neighbors=5)\n",
    "imputed = imputer.fit_transform(test)\n",
    "df_imputed = pd.DataFrame(imputed, columns = test.columns)\n",
    "df_imputed.info()"
   ]
  },
  {
   "cell_type": "code",
   "execution_count": null,
   "id": "137ad794",
   "metadata": {},
   "outputs": [],
   "source": [
    "df_imputed.to_csv('knn_test.csv')"
   ]
  },
  {
   "cell_type": "code",
   "execution_count": null,
   "id": "39dd7fda",
   "metadata": {},
   "outputs": [],
   "source": []
  }
 ],
 "metadata": {
  "kernelspec": {
   "display_name": "Python 3 (ipykernel)",
   "language": "python",
   "name": "python3"
  },
  "language_info": {
   "codemirror_mode": {
    "name": "ipython",
    "version": 3
   },
   "file_extension": ".py",
   "mimetype": "text/x-python",
   "name": "python",
   "nbconvert_exporter": "python",
   "pygments_lexer": "ipython3",
   "version": "3.8.13"
  }
 },
 "nbformat": 4,
 "nbformat_minor": 5
}
