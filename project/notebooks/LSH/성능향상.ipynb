{
 "cells": [
  {
   "cell_type": "code",
   "execution_count": 1,
   "id": "21dc024e",
   "metadata": {},
   "outputs": [],
   "source": [
    "import pandas as pd\n",
    "import numpy as np\n",
    "import matplotlib.pyplot as plt\n",
    "import warnings\n",
    "warnings.filterwarnings('ignore')\n",
    "%matplotlib inline\n",
    "\n",
    "train_identity = pd.read_csv('/Users/isuhyeon/IEE-CIS_Fraud_Detection/train_identity.csv')\n",
    "train_transaction = pd.read_csv('/Users/isuhyeon/IEE-CIS_Fraud_Detection/train_transaction.csv')\n",
    "test_identity = pd.read_csv('/Users/isuhyeon/IEE-CIS_Fraud_Detection/test_identity.csv')\n",
    "test_transaction = pd.read_csv('/Users/isuhyeon/IEE-CIS_Fraud_Detection/test_transaction.csv')\n",
    "test_identity.columns = [col.replace('-','_')for col in test_identity.columns]\n",
    "\n",
    "train = pd.merge(train_transaction, train_identity, on='TransactionID', how='left')\n",
    "test = pd.merge(test_transaction, test_identity, on='TransactionID', how='left')"
   ]
  },
  {
   "cell_type": "code",
   "execution_count": 2,
   "id": "cbc4274f",
   "metadata": {},
   "outputs": [],
   "source": [
    "del train_identity,test_identity,train_transaction,test_transaction "
   ]
  },
  {
   "cell_type": "markdown",
   "id": "34a25e75",
   "metadata": {},
   "source": [
    "# 전처리 1 [컬럼drop(null_80%이상)]"
   ]
  },
  {
   "cell_type": "code",
   "execution_count": 3,
   "id": "44a83d99",
   "metadata": {},
   "outputs": [],
   "source": [
    "dff_column_to_drop = train.columns[(train.isna().sum() / len(train) > 0.2)]"
   ]
  },
  {
   "cell_type": "code",
   "execution_count": 4,
   "id": "bc2303e3",
   "metadata": {},
   "outputs": [],
   "source": [
    "def preprocess(df) :\n",
    "    df = df.drop(columns=dff_column_to_drop).copy()\n",
    "    # object 범주형 자료 결측치 - 최빈값으로 채워 넣기\n",
    "    # df.ProductCD.value_counts().index # ['W', 'C', 'R', 'H', 'S']\n",
    "    df.ProductCD.fillna(df.ProductCD.mode(), inplace=True)\n",
    "    from sklearn.preprocessing import LabelEncoder\n",
    "    lbl_enc = LabelEncoder()\n",
    "    lbl_enc.fit(df[['ProductCD']])\n",
    "    df['ProductCD'] = lbl_enc.transform(df[['ProductCD']])\n",
    "    # df.card4.value_counts().index # ['visa', 'mastercard', 'american express', 'discover']\n",
    "    df.card4.fillna(df.card4.mode(), inplace=True)\n",
    "    lbl_enc.fit(df[['card4']])\n",
    "    df['card4'] = lbl_enc.transform(df[['card4']])\n",
    "    # df.card6.value_counts().index # ['debit', 'credit', 'debit or credit', 'charge card']\n",
    "    df.card6.fillna(df.card6.mode(), inplace=True)\n",
    "    lbl_enc.fit(df[['card6']])\n",
    "    df['card6'] = lbl_enc.transform(df[['card6']])\n",
    "    # df.P_emaildomain.value_counts().index    # [ gmail yahoo etc   ]\n",
    "    df.P_emaildomain.fillna(df.P_emaildomain.mode(), inplace=True)\n",
    "    lbl_enc.fit(df[['P_emaildomain']])\n",
    "    df['P_emaildomain'] = lbl_enc.transform(df[['P_emaildomain']])\n",
    "\n",
    "    #NULL값이 있는지 한눈에 보기\n",
    "    display(np.sum(df.isnull() ).to_frame().transpose() )\n",
    "    display(f'지금 {np.sum(np.sum(df.isnull()))} 개의 null값이 있습니다.' )\n",
    "\n",
    "\n",
    "    # continuous 연속형 자료 결측치 추가\n",
    "    # 방법 1 - 중앙값으로 채워 넣기\n",
    "    temp_list_1 = df.columns[df.isnull().sum() > 0]  # 결측치가 있는 컬럼을 골라서 리스트에 넣기\n",
    "    for aa in temp_list_1 :\n",
    "        df[aa].fillna(df[aa].median(), inplace=True)  # 중앙값으로 채워 넣기\n",
    "    # df.info(verbose=True, show_counts=True)\n",
    "\n",
    "    print(\"Null :\", df.isnull().sum().sum() )\n",
    "\n",
    "    return df"
   ]
  },
  {
   "cell_type": "code",
   "execution_count": 5,
   "id": "9ba18686",
   "metadata": {},
   "outputs": [
    {
     "data": {
      "text/html": [
       "<div>\n",
       "<style scoped>\n",
       "    .dataframe tbody tr th:only-of-type {\n",
       "        vertical-align: middle;\n",
       "    }\n",
       "\n",
       "    .dataframe tbody tr th {\n",
       "        vertical-align: top;\n",
       "    }\n",
       "\n",
       "    .dataframe thead th {\n",
       "        text-align: right;\n",
       "    }\n",
       "</style>\n",
       "<table border=\"1\" class=\"dataframe\">\n",
       "  <thead>\n",
       "    <tr style=\"text-align: right;\">\n",
       "      <th></th>\n",
       "      <th>TransactionID</th>\n",
       "      <th>isFraud</th>\n",
       "      <th>TransactionDT</th>\n",
       "      <th>TransactionAmt</th>\n",
       "      <th>ProductCD</th>\n",
       "      <th>card1</th>\n",
       "      <th>card2</th>\n",
       "      <th>card3</th>\n",
       "      <th>card4</th>\n",
       "      <th>card5</th>\n",
       "      <th>...</th>\n",
       "      <th>V312</th>\n",
       "      <th>V313</th>\n",
       "      <th>V314</th>\n",
       "      <th>V315</th>\n",
       "      <th>V316</th>\n",
       "      <th>V317</th>\n",
       "      <th>V318</th>\n",
       "      <th>V319</th>\n",
       "      <th>V320</th>\n",
       "      <th>V321</th>\n",
       "    </tr>\n",
       "  </thead>\n",
       "  <tbody>\n",
       "    <tr>\n",
       "      <th>0</th>\n",
       "      <td>0</td>\n",
       "      <td>0</td>\n",
       "      <td>0</td>\n",
       "      <td>0</td>\n",
       "      <td>0</td>\n",
       "      <td>0</td>\n",
       "      <td>8933</td>\n",
       "      <td>1565</td>\n",
       "      <td>0</td>\n",
       "      <td>4259</td>\n",
       "      <td>...</td>\n",
       "      <td>12</td>\n",
       "      <td>1269</td>\n",
       "      <td>1269</td>\n",
       "      <td>1269</td>\n",
       "      <td>12</td>\n",
       "      <td>12</td>\n",
       "      <td>12</td>\n",
       "      <td>12</td>\n",
       "      <td>12</td>\n",
       "      <td>12</td>\n",
       "    </tr>\n",
       "  </tbody>\n",
       "</table>\n",
       "<p>1 rows × 182 columns</p>\n",
       "</div>"
      ],
      "text/plain": [
       "   TransactionID  isFraud  TransactionDT  TransactionAmt  ProductCD  card1  \\\n",
       "0              0        0              0               0          0      0   \n",
       "\n",
       "   card2  card3  card4  card5  ...  V312  V313  V314  V315  V316  V317  V318  \\\n",
       "0   8933   1565      0   4259  ...    12  1269  1269  1269    12    12    12   \n",
       "\n",
       "   V319  V320  V321  \n",
       "0    12    12    12  \n",
       "\n",
       "[1 rows x 182 columns]"
      ]
     },
     "metadata": {},
     "output_type": "display_data"
    },
    {
     "data": {
      "text/plain": [
       "'지금 5569489 개의 null값이 있습니다.'"
      ]
     },
     "metadata": {},
     "output_type": "display_data"
    },
    {
     "name": "stdout",
     "output_type": "stream",
     "text": [
      "Null : 0\n"
     ]
    }
   ],
   "source": [
    "train = preprocess(train)"
   ]
  },
  {
   "cell_type": "code",
   "execution_count": 6,
   "id": "bc9dbab0",
   "metadata": {},
   "outputs": [
    {
     "data": {
      "text/html": [
       "<div>\n",
       "<style scoped>\n",
       "    .dataframe tbody tr th:only-of-type {\n",
       "        vertical-align: middle;\n",
       "    }\n",
       "\n",
       "    .dataframe tbody tr th {\n",
       "        vertical-align: top;\n",
       "    }\n",
       "\n",
       "    .dataframe thead th {\n",
       "        text-align: right;\n",
       "    }\n",
       "</style>\n",
       "<table border=\"1\" class=\"dataframe\">\n",
       "  <thead>\n",
       "    <tr style=\"text-align: right;\">\n",
       "      <th></th>\n",
       "      <th>TransactionID</th>\n",
       "      <th>TransactionDT</th>\n",
       "      <th>TransactionAmt</th>\n",
       "      <th>ProductCD</th>\n",
       "      <th>card1</th>\n",
       "      <th>card2</th>\n",
       "      <th>card3</th>\n",
       "      <th>card4</th>\n",
       "      <th>card5</th>\n",
       "      <th>card6</th>\n",
       "      <th>...</th>\n",
       "      <th>V312</th>\n",
       "      <th>V313</th>\n",
       "      <th>V314</th>\n",
       "      <th>V315</th>\n",
       "      <th>V316</th>\n",
       "      <th>V317</th>\n",
       "      <th>V318</th>\n",
       "      <th>V319</th>\n",
       "      <th>V320</th>\n",
       "      <th>V321</th>\n",
       "    </tr>\n",
       "  </thead>\n",
       "  <tbody>\n",
       "    <tr>\n",
       "      <th>0</th>\n",
       "      <td>0</td>\n",
       "      <td>0</td>\n",
       "      <td>0</td>\n",
       "      <td>0</td>\n",
       "      <td>0</td>\n",
       "      <td>8654</td>\n",
       "      <td>3002</td>\n",
       "      <td>0</td>\n",
       "      <td>4547</td>\n",
       "      <td>0</td>\n",
       "      <td>...</td>\n",
       "      <td>3</td>\n",
       "      <td>6031</td>\n",
       "      <td>6031</td>\n",
       "      <td>6031</td>\n",
       "      <td>3</td>\n",
       "      <td>3</td>\n",
       "      <td>3</td>\n",
       "      <td>3</td>\n",
       "      <td>3</td>\n",
       "      <td>3</td>\n",
       "    </tr>\n",
       "  </tbody>\n",
       "</table>\n",
       "<p>1 rows × 181 columns</p>\n",
       "</div>"
      ],
      "text/plain": [
       "   TransactionID  TransactionDT  TransactionAmt  ProductCD  card1  card2  \\\n",
       "0              0              0               0          0      0   8654   \n",
       "\n",
       "   card3  card4  card5  card6  ...  V312  V313  V314  V315  V316  V317  V318  \\\n",
       "0   3002      0   4547      0  ...     3  6031  6031  6031     3     3     3   \n",
       "\n",
       "   V319  V320  V321  \n",
       "0     3     3     3  \n",
       "\n",
       "[1 rows x 181 columns]"
      ]
     },
     "metadata": {},
     "output_type": "display_data"
    },
    {
     "data": {
      "text/plain": [
       "'지금 1064235 개의 null값이 있습니다.'"
      ]
     },
     "metadata": {},
     "output_type": "display_data"
    },
    {
     "name": "stdout",
     "output_type": "stream",
     "text": [
      "Null : 0\n"
     ]
    }
   ],
   "source": [
    "test = preprocess(test)"
   ]
  },
  {
   "cell_type": "code",
   "execution_count": 7,
   "id": "554557db",
   "metadata": {},
   "outputs": [],
   "source": [
    "x_train = train.drop('isFraud',axis=1)\n",
    "y_train = train['isFraud']"
   ]
  },
  {
   "cell_type": "code",
   "execution_count": 8,
   "id": "6dd031c6",
   "metadata": {},
   "outputs": [],
   "source": [
    "from sklearn.model_selection import train_test_split\n",
    "X_train, x_val, Y_train, y_val = train_test_split(x_train,y_train, test_size=0.2, random_state=0xC0FFEE)  # 42, 0xC0FFEE"
   ]
  },
  {
   "cell_type": "code",
   "execution_count": 9,
   "id": "ac2b4fac",
   "metadata": {},
   "outputs": [],
   "source": [
    "from sklearn.metrics import accuracy_score, precision_score,recall_score,confusion_matrix\n",
    "\n",
    "def get_clf_eval(y_test,pred):\n",
    "    confusion = confusion_matrix(y_test,pred)\n",
    "    accuracy = accuracy_score(y_test,pred)\n",
    "    precision  = precision_score(y_test,pred)\n",
    "    recall = recall_score(y_test,pred)\n",
    "    print('오차 행렬')\n",
    "    print(confusion)\n",
    "    print('정확도:{0:.4f}, 정밀도:{1:.4f}, 재현율:{2:.4f}'.format(accuracy,precision,recall))"
   ]
  },
  {
   "cell_type": "code",
   "execution_count": 10,
   "id": "5344d3ab",
   "metadata": {},
   "outputs": [],
   "source": [
    "def get_model_train_eval(model,ftr_train=None,ftr_test=None,tgt_train=None,tgt_test=None):\n",
    "    model.fit(ftr_train,tgt_train)\n",
    "    pred = model.predict(ftr_test)\n",
    "    pred_proba = model.predict_proba(ftr_test)[:,1]\n",
    "    get_clf_eval(tgt_test,pred)"
   ]
  },
  {
   "cell_type": "code",
   "execution_count": 11,
   "id": "2f706eaa",
   "metadata": {},
   "outputs": [
    {
     "name": "stdout",
     "output_type": "stream",
     "text": [
      "오차 행렬\n",
      "[[113693    142]\n",
      " [  1590   2683]]\n",
      "정확도:0.9853, 정밀도:0.9497, 재현율:0.6279\n"
     ]
    }
   ],
   "source": [
    "from lightgbm import LGBMClassifier\n",
    "\n",
    "lgbm_clf = LGBMClassifier(n_estimators=1000,num_leaves=64,n_jobs=-1,boost_from_average=False)\n",
    "get_model_train_eval(lgbm_clf,ftr_train=X_train,ftr_test=x_val,tgt_train=Y_train,tgt_test=y_val)"
   ]
  },
  {
   "cell_type": "markdown",
   "id": "3c966437",
   "metadata": {},
   "source": [
    "# over sampling"
   ]
  },
  {
   "cell_type": "code",
   "execution_count": 12,
   "id": "d53f116d",
   "metadata": {},
   "outputs": [],
   "source": [
    "from imblearn.over_sampling import SMOTE\n",
    "\n",
    "def smote(x,y):\n",
    "    smote = SMOTE(random_state=0)\n",
    "    x_over ,y_over = smote.fit_resample(x,y)\n",
    "    print('smote 적용 후 레이블 값 분포:\\n',pd.Series(y_over).value_counts())\n",
    "    return x_over, y_over"
   ]
  },
  {
   "cell_type": "code",
   "execution_count": 13,
   "id": "549b0091",
   "metadata": {},
   "outputs": [
    {
     "name": "stdout",
     "output_type": "stream",
     "text": [
      "smote 적용 후 레이블 값 분포:\n",
      " 0    569877\n",
      "1    569877\n",
      "Name: isFraud, dtype: int64\n"
     ]
    }
   ],
   "source": [
    "x_over ,y_over = smote(x_train,y_train)"
   ]
  },
  {
   "cell_type": "code",
   "execution_count": 14,
   "id": "3e16c212",
   "metadata": {},
   "outputs": [
    {
     "name": "stdout",
     "output_type": "stream",
     "text": [
      "오차 행렬\n",
      "[[113801     34]\n",
      " [   734   3539]]\n",
      "정확도:0.9935, 정밀도:0.9905, 재현율:0.8282\n"
     ]
    }
   ],
   "source": [
    "from lightgbm import LGBMClassifier\n",
    "\n",
    "lgbm_clf = LGBMClassifier(n_estimators=1000,num_leaves=64,n_jobs=-1,boost_from_average=False)\n",
    "get_model_train_eval(lgbm_clf,ftr_train=x_over,ftr_test=x_val,tgt_train=y_over,tgt_test=y_val)"
   ]
  },
  {
   "cell_type": "markdown",
   "id": "74cd1333",
   "metadata": {},
   "source": [
    "# feature engineering"
   ]
  },
  {
   "cell_type": "code",
   "execution_count": 15,
   "id": "11a92401",
   "metadata": {},
   "outputs": [],
   "source": [
    "#TransactionDT -> DaysFromStart, D1-DaysFromStart 만들기\n",
    "import datetime\n",
    "start_date = datetime.datetime.strptime('2017-11-30', '%Y-%m-%d')\n",
    "for df in [train,test]:\n",
    "    #다른 항목을 만들기 위해 필요한 항목들\n",
    "    df['DaysFromStart'] = np.floor(df['TransactionDT']/(60*60*24)) - 1\n",
    "    df['D1-DaysFromStart'] = df['D1'] - df['DaysFromStart']"
   ]
  },
  {
   "cell_type": "code",
   "execution_count": 16,
   "id": "23b009fc",
   "metadata": {},
   "outputs": [],
   "source": [
    "#uid 생성\n",
    "for df in [train,test]:\n",
    "    df['uid'] = df['ProductCD'].astype(str) + '_' + df['card1'].astype(str) + '_' + df['card2'].astype(str)\n",
    "    df['uid'] = df['uid'] + '_' + df['card3'].astype(str) + '_' + df['card4'].astype(str)\n",
    "    df['uid'] = df['uid'] + '_' + df['card5'].astype(str) + '_' + df['card6'].astype(str)\n",
    "    df['uid'] = df['uid'] + '_' + df['addr1'].astype(str) + '_' + df['D1-DaysFromStart'].astype(str)"
   ]
  },
  {
   "cell_type": "code",
   "execution_count": 17,
   "id": "94df786a",
   "metadata": {},
   "outputs": [
    {
     "name": "stdout",
     "output_type": "stream",
     "text": [
      "train\n",
      "1    527684\n",
      "0     62856\n",
      "Name: TransactionAmt_check, dtype: int64\n",
      " \n",
      "test\n",
      "1    490910\n",
      "0     15781\n",
      "Name: TransactionAmt_check, dtype: int64\n"
     ]
    }
   ],
   "source": [
    "#transactionAmt\n",
    "# 클립하여 0부터 5000사이의 값으로 봅니다\n",
    "train['TransactionAmt'] = train['TransactionAmt'].clip(0,5000)\n",
    "test['TransactionAmt']  = test['TransactionAmt'].clip(0,5000)\n",
    "\n",
    "# 거래 액수가 일반적인지 아닌지를 봅니다\n",
    "train['TransactionAmt_check'] = np.where(train['TransactionAmt'].isin(test['TransactionAmt']), 1, 0)\n",
    "test['TransactionAmt_check']  = np.where(test['TransactionAmt'].isin(train['TransactionAmt']), 1, 0)\n",
    "\n",
    "print('train')\n",
    "print(train.TransactionAmt_check.value_counts())\n",
    "print(' ')\n",
    "print('test')\n",
    "print(test.TransactionAmt_check.value_counts())"
   ]
  },
  {
   "cell_type": "code",
   "execution_count": 18,
   "id": "629a97a0",
   "metadata": {},
   "outputs": [],
   "source": [
    "#다른 유용한 항목들\n",
    "\n",
    "for df in [train, test]:\n",
    "    df['ProductCD_card1'] = df['ProductCD'].astype(str) + '_' + df['card1'].astype(str)\n",
    "    df['card1_addr1'] = df['card1'].astype(str) + '_' + df['addr1'].astype(str)\n",
    "    df['card3_card5'] = df['card3'].astype(str) + '_' + df['card5'].astype(str)\n",
    "    df['ProductCD_TransactionAmt'] = df['ProductCD'].astype(str) + '_' + df['TransactionAmt'].astype(str)\n",
    "    df['cents'] = np.round(df['TransactionAmt'] - np.floor(df['TransactionAmt']), 3)\n",
    "    df['ProductCD_cents'] = df['ProductCD'].astype(str) + '_' + df['cents'].astype(str)\n",
    "    df['TransactionAmt'] = np.log1p(df['TransactionAmt'])"
   ]
  },
  {
   "cell_type": "code",
   "execution_count": 19,
   "id": "b896f440",
   "metadata": {},
   "outputs": [],
   "source": [
    "# 아래 항목들은 다른 것을 만드는데만 유용하니 이제 없애도록 하겠습니다\n",
    "train = train.drop(['DaysFromStart','D1-DaysFromStart'], axis=1)\n",
    "test = test.drop(['DaysFromStart','D1-DaysFromStart'], axis=1)"
   ]
  },
  {
   "cell_type": "code",
   "execution_count": 20,
   "id": "54bc4a93",
   "metadata": {},
   "outputs": [],
   "source": [
    "def freq_encode_full(df1, df2, col, normalize=True):\n",
    "    df = pd.concat([df1[col], df2[col]])\n",
    "    freq_dict = df.value_counts(dropna=False, normalize=normalize).to_dict()\n",
    "    col_name = col + '_freq_enc_full'\n",
    "    return col_name, freq_dict"
   ]
  },
  {
   "cell_type": "code",
   "execution_count": 21,
   "id": "0e012fe0",
   "metadata": {},
   "outputs": [],
   "source": [
    "i_cols = ['ProductCD_TransactionAmt', 'ProductCD_cents', 'cents', 'card1', 'card2', 'card3', 'card5', 'ProductCD_card1','card1_addr1']\n",
    "\n",
    "for col in i_cols:\n",
    "    col_name, freq_dict = freq_encode_full(train, test, col)\n",
    "    train[col_name] = train[col].map(freq_dict).astype('float32')\n",
    "    test[col_name] = test[col].map(freq_dict).astype('float32')"
   ]
  },
  {
   "cell_type": "code",
   "execution_count": 22,
   "id": "8a3c2c85",
   "metadata": {},
   "outputs": [],
   "source": [
    "#label encoding\n",
    "from sklearn import preprocessing\n",
    "def label_encoding(df):\n",
    "    for f in df.columns:\n",
    "        if df[f].dtype == 'object':\n",
    "            le = preprocessing.LabelEncoder()\n",
    "            le.fit(list(df[f].values))\n",
    "            df[f] = le.transform(list(df[f].values))\n",
    "        else :\n",
    "            pass"
   ]
  },
  {
   "cell_type": "code",
   "execution_count": 23,
   "id": "2876358b",
   "metadata": {},
   "outputs": [],
   "source": [
    "label_encoding(train)\n",
    "label_encoding(test)"
   ]
  },
  {
   "cell_type": "code",
   "execution_count": 33,
   "id": "431f115b",
   "metadata": {},
   "outputs": [
    {
     "ename": "KeyError",
     "evalue": "'V12'",
     "output_type": "error",
     "traceback": [
      "\u001b[0;31m---------------------------------------------------------------------------\u001b[0m",
      "\u001b[0;31mKeyError\u001b[0m                                  Traceback (most recent call last)",
      "File \u001b[0;32m~/miniforge3/envs/fc/lib/python3.8/site-packages/pandas/core/indexes/base.py:3621\u001b[0m, in \u001b[0;36mIndex.get_loc\u001b[0;34m(self, key, method, tolerance)\u001b[0m\n\u001b[1;32m   3620\u001b[0m \u001b[38;5;28;01mtry\u001b[39;00m:\n\u001b[0;32m-> 3621\u001b[0m     \u001b[38;5;28;01mreturn\u001b[39;00m \u001b[38;5;28;43mself\u001b[39;49m\u001b[38;5;241;43m.\u001b[39;49m\u001b[43m_engine\u001b[49m\u001b[38;5;241;43m.\u001b[39;49m\u001b[43mget_loc\u001b[49m\u001b[43m(\u001b[49m\u001b[43mcasted_key\u001b[49m\u001b[43m)\u001b[49m\n\u001b[1;32m   3622\u001b[0m \u001b[38;5;28;01mexcept\u001b[39;00m \u001b[38;5;167;01mKeyError\u001b[39;00m \u001b[38;5;28;01mas\u001b[39;00m err:\n",
      "File \u001b[0;32m~/miniforge3/envs/fc/lib/python3.8/site-packages/pandas/_libs/index.pyx:136\u001b[0m, in \u001b[0;36mpandas._libs.index.IndexEngine.get_loc\u001b[0;34m()\u001b[0m\n",
      "File \u001b[0;32m~/miniforge3/envs/fc/lib/python3.8/site-packages/pandas/_libs/index.pyx:163\u001b[0m, in \u001b[0;36mpandas._libs.index.IndexEngine.get_loc\u001b[0;34m()\u001b[0m\n",
      "File \u001b[0;32mpandas/_libs/hashtable_class_helper.pxi:5198\u001b[0m, in \u001b[0;36mpandas._libs.hashtable.PyObjectHashTable.get_item\u001b[0;34m()\u001b[0m\n",
      "File \u001b[0;32mpandas/_libs/hashtable_class_helper.pxi:5206\u001b[0m, in \u001b[0;36mpandas._libs.hashtable.PyObjectHashTable.get_item\u001b[0;34m()\u001b[0m\n",
      "\u001b[0;31mKeyError\u001b[0m: 'V12'",
      "\nThe above exception was the direct cause of the following exception:\n",
      "\u001b[0;31mKeyError\u001b[0m                                  Traceback (most recent call last)",
      "Input \u001b[0;32mIn [33]\u001b[0m, in \u001b[0;36m<cell line: 4>\u001b[0;34m()\u001b[0m\n\u001b[1;32m      1\u001b[0m \u001b[38;5;66;03m# v's pca \u001b[39;00m\n\u001b[1;32m      2\u001b[0m \u001b[38;5;28;01mfrom\u001b[39;00m \u001b[38;5;21;01msklearn\u001b[39;00m\u001b[38;5;21;01m.\u001b[39;00m\u001b[38;5;21;01mpreprocessing\u001b[39;00m \u001b[38;5;28;01mimport\u001b[39;00m StandardScaler\n\u001b[0;32m----> 4\u001b[0m v_train \u001b[38;5;241m=\u001b[39m \u001b[43mtrain\u001b[49m\u001b[38;5;241;43m.\u001b[39;49m\u001b[43mloc\u001b[49m\u001b[43m[\u001b[49m\u001b[43m:\u001b[49m\u001b[43m,\u001b[49m\u001b[38;5;124;43m'\u001b[39;49m\u001b[38;5;124;43mV12\u001b[39;49m\u001b[38;5;124;43m'\u001b[39;49m\u001b[43m:\u001b[49m\u001b[38;5;124;43m'\u001b[39;49m\u001b[38;5;124;43mV321\u001b[39;49m\u001b[38;5;124;43m'\u001b[39;49m\u001b[43m]\u001b[49m\n\u001b[1;32m      5\u001b[0m v_train \u001b[38;5;241m=\u001b[39m v_train\u001b[38;5;241m.\u001b[39mfillna(\u001b[38;5;241m-\u001b[39m\u001b[38;5;241m999\u001b[39m)\n\u001b[1;32m      6\u001b[0m v_train \u001b[38;5;241m=\u001b[39m StandardScaler()\u001b[38;5;241m.\u001b[39mfit_transform(v_train)\n",
      "File \u001b[0;32m~/miniforge3/envs/fc/lib/python3.8/site-packages/pandas/core/indexing.py:961\u001b[0m, in \u001b[0;36m_LocationIndexer.__getitem__\u001b[0;34m(self, key)\u001b[0m\n\u001b[1;32m    959\u001b[0m     \u001b[38;5;28;01mif\u001b[39;00m \u001b[38;5;28mself\u001b[39m\u001b[38;5;241m.\u001b[39m_is_scalar_access(key):\n\u001b[1;32m    960\u001b[0m         \u001b[38;5;28;01mreturn\u001b[39;00m \u001b[38;5;28mself\u001b[39m\u001b[38;5;241m.\u001b[39mobj\u001b[38;5;241m.\u001b[39m_get_value(\u001b[38;5;241m*\u001b[39mkey, takeable\u001b[38;5;241m=\u001b[39m\u001b[38;5;28mself\u001b[39m\u001b[38;5;241m.\u001b[39m_takeable)\n\u001b[0;32m--> 961\u001b[0m     \u001b[38;5;28;01mreturn\u001b[39;00m \u001b[38;5;28;43mself\u001b[39;49m\u001b[38;5;241;43m.\u001b[39;49m\u001b[43m_getitem_tuple\u001b[49m\u001b[43m(\u001b[49m\u001b[43mkey\u001b[49m\u001b[43m)\u001b[49m\n\u001b[1;32m    962\u001b[0m \u001b[38;5;28;01melse\u001b[39;00m:\n\u001b[1;32m    963\u001b[0m     \u001b[38;5;66;03m# we by definition only have the 0th axis\u001b[39;00m\n\u001b[1;32m    964\u001b[0m     axis \u001b[38;5;241m=\u001b[39m \u001b[38;5;28mself\u001b[39m\u001b[38;5;241m.\u001b[39maxis \u001b[38;5;129;01mor\u001b[39;00m \u001b[38;5;241m0\u001b[39m\n",
      "File \u001b[0;32m~/miniforge3/envs/fc/lib/python3.8/site-packages/pandas/core/indexing.py:1149\u001b[0m, in \u001b[0;36m_LocIndexer._getitem_tuple\u001b[0;34m(self, tup)\u001b[0m\n\u001b[1;32m   1146\u001b[0m \u001b[38;5;28;01mif\u001b[39;00m \u001b[38;5;28mself\u001b[39m\u001b[38;5;241m.\u001b[39m_multi_take_opportunity(tup):\n\u001b[1;32m   1147\u001b[0m     \u001b[38;5;28;01mreturn\u001b[39;00m \u001b[38;5;28mself\u001b[39m\u001b[38;5;241m.\u001b[39m_multi_take(tup)\n\u001b[0;32m-> 1149\u001b[0m \u001b[38;5;28;01mreturn\u001b[39;00m \u001b[38;5;28;43mself\u001b[39;49m\u001b[38;5;241;43m.\u001b[39;49m\u001b[43m_getitem_tuple_same_dim\u001b[49m\u001b[43m(\u001b[49m\u001b[43mtup\u001b[49m\u001b[43m)\u001b[49m\n",
      "File \u001b[0;32m~/miniforge3/envs/fc/lib/python3.8/site-packages/pandas/core/indexing.py:827\u001b[0m, in \u001b[0;36m_LocationIndexer._getitem_tuple_same_dim\u001b[0;34m(self, tup)\u001b[0m\n\u001b[1;32m    824\u001b[0m \u001b[38;5;28;01mif\u001b[39;00m com\u001b[38;5;241m.\u001b[39mis_null_slice(key):\n\u001b[1;32m    825\u001b[0m     \u001b[38;5;28;01mcontinue\u001b[39;00m\n\u001b[0;32m--> 827\u001b[0m retval \u001b[38;5;241m=\u001b[39m \u001b[38;5;28;43mgetattr\u001b[39;49m\u001b[43m(\u001b[49m\u001b[43mretval\u001b[49m\u001b[43m,\u001b[49m\u001b[43m \u001b[49m\u001b[38;5;28;43mself\u001b[39;49m\u001b[38;5;241;43m.\u001b[39;49m\u001b[43mname\u001b[49m\u001b[43m)\u001b[49m\u001b[38;5;241;43m.\u001b[39;49m\u001b[43m_getitem_axis\u001b[49m\u001b[43m(\u001b[49m\u001b[43mkey\u001b[49m\u001b[43m,\u001b[49m\u001b[43m \u001b[49m\u001b[43maxis\u001b[49m\u001b[38;5;241;43m=\u001b[39;49m\u001b[43mi\u001b[49m\u001b[43m)\u001b[49m\n\u001b[1;32m    828\u001b[0m \u001b[38;5;66;03m# We should never have retval.ndim < self.ndim, as that should\u001b[39;00m\n\u001b[1;32m    829\u001b[0m \u001b[38;5;66;03m#  be handled by the _getitem_lowerdim call above.\u001b[39;00m\n\u001b[1;32m    830\u001b[0m \u001b[38;5;28;01massert\u001b[39;00m retval\u001b[38;5;241m.\u001b[39mndim \u001b[38;5;241m==\u001b[39m \u001b[38;5;28mself\u001b[39m\u001b[38;5;241m.\u001b[39mndim\n",
      "File \u001b[0;32m~/miniforge3/envs/fc/lib/python3.8/site-packages/pandas/core/indexing.py:1180\u001b[0m, in \u001b[0;36m_LocIndexer._getitem_axis\u001b[0;34m(self, key, axis)\u001b[0m\n\u001b[1;32m   1178\u001b[0m \u001b[38;5;28;01mif\u001b[39;00m \u001b[38;5;28misinstance\u001b[39m(key, \u001b[38;5;28mslice\u001b[39m):\n\u001b[1;32m   1179\u001b[0m     \u001b[38;5;28mself\u001b[39m\u001b[38;5;241m.\u001b[39m_validate_key(key, axis)\n\u001b[0;32m-> 1180\u001b[0m     \u001b[38;5;28;01mreturn\u001b[39;00m \u001b[38;5;28;43mself\u001b[39;49m\u001b[38;5;241;43m.\u001b[39;49m\u001b[43m_get_slice_axis\u001b[49m\u001b[43m(\u001b[49m\u001b[43mkey\u001b[49m\u001b[43m,\u001b[49m\u001b[43m \u001b[49m\u001b[43maxis\u001b[49m\u001b[38;5;241;43m=\u001b[39;49m\u001b[43maxis\u001b[49m\u001b[43m)\u001b[49m\n\u001b[1;32m   1181\u001b[0m \u001b[38;5;28;01melif\u001b[39;00m com\u001b[38;5;241m.\u001b[39mis_bool_indexer(key):\n\u001b[1;32m   1182\u001b[0m     \u001b[38;5;28;01mreturn\u001b[39;00m \u001b[38;5;28mself\u001b[39m\u001b[38;5;241m.\u001b[39m_getbool_axis(key, axis\u001b[38;5;241m=\u001b[39maxis)\n",
      "File \u001b[0;32m~/miniforge3/envs/fc/lib/python3.8/site-packages/pandas/core/indexing.py:1214\u001b[0m, in \u001b[0;36m_LocIndexer._get_slice_axis\u001b[0;34m(self, slice_obj, axis)\u001b[0m\n\u001b[1;32m   1211\u001b[0m     \u001b[38;5;28;01mreturn\u001b[39;00m obj\u001b[38;5;241m.\u001b[39mcopy(deep\u001b[38;5;241m=\u001b[39m\u001b[38;5;28;01mFalse\u001b[39;00m)\n\u001b[1;32m   1213\u001b[0m labels \u001b[38;5;241m=\u001b[39m obj\u001b[38;5;241m.\u001b[39m_get_axis(axis)\n\u001b[0;32m-> 1214\u001b[0m indexer \u001b[38;5;241m=\u001b[39m \u001b[43mlabels\u001b[49m\u001b[38;5;241;43m.\u001b[39;49m\u001b[43mslice_indexer\u001b[49m\u001b[43m(\u001b[49m\u001b[43mslice_obj\u001b[49m\u001b[38;5;241;43m.\u001b[39;49m\u001b[43mstart\u001b[49m\u001b[43m,\u001b[49m\u001b[43m \u001b[49m\u001b[43mslice_obj\u001b[49m\u001b[38;5;241;43m.\u001b[39;49m\u001b[43mstop\u001b[49m\u001b[43m,\u001b[49m\u001b[43m \u001b[49m\u001b[43mslice_obj\u001b[49m\u001b[38;5;241;43m.\u001b[39;49m\u001b[43mstep\u001b[49m\u001b[43m)\u001b[49m\n\u001b[1;32m   1216\u001b[0m \u001b[38;5;28;01mif\u001b[39;00m \u001b[38;5;28misinstance\u001b[39m(indexer, \u001b[38;5;28mslice\u001b[39m):\n\u001b[1;32m   1217\u001b[0m     \u001b[38;5;28;01mreturn\u001b[39;00m \u001b[38;5;28mself\u001b[39m\u001b[38;5;241m.\u001b[39mobj\u001b[38;5;241m.\u001b[39m_slice(indexer, axis\u001b[38;5;241m=\u001b[39maxis)\n",
      "File \u001b[0;32m~/miniforge3/envs/fc/lib/python3.8/site-packages/pandas/core/indexes/base.py:6274\u001b[0m, in \u001b[0;36mIndex.slice_indexer\u001b[0;34m(self, start, end, step, kind)\u001b[0m\n\u001b[1;32m   6231\u001b[0m \u001b[38;5;124;03m\"\"\"\u001b[39;00m\n\u001b[1;32m   6232\u001b[0m \u001b[38;5;124;03mCompute the slice indexer for input labels and step.\u001b[39;00m\n\u001b[1;32m   6233\u001b[0m \n\u001b[0;32m   (...)\u001b[0m\n\u001b[1;32m   6270\u001b[0m \u001b[38;5;124;03mslice(1, 3, None)\u001b[39;00m\n\u001b[1;32m   6271\u001b[0m \u001b[38;5;124;03m\"\"\"\u001b[39;00m\n\u001b[1;32m   6272\u001b[0m \u001b[38;5;28mself\u001b[39m\u001b[38;5;241m.\u001b[39m_deprecated_arg(kind, \u001b[38;5;124m\"\u001b[39m\u001b[38;5;124mkind\u001b[39m\u001b[38;5;124m\"\u001b[39m, \u001b[38;5;124m\"\u001b[39m\u001b[38;5;124mslice_indexer\u001b[39m\u001b[38;5;124m\"\u001b[39m)\n\u001b[0;32m-> 6274\u001b[0m start_slice, end_slice \u001b[38;5;241m=\u001b[39m \u001b[38;5;28;43mself\u001b[39;49m\u001b[38;5;241;43m.\u001b[39;49m\u001b[43mslice_locs\u001b[49m\u001b[43m(\u001b[49m\u001b[43mstart\u001b[49m\u001b[43m,\u001b[49m\u001b[43m \u001b[49m\u001b[43mend\u001b[49m\u001b[43m,\u001b[49m\u001b[43m \u001b[49m\u001b[43mstep\u001b[49m\u001b[38;5;241;43m=\u001b[39;49m\u001b[43mstep\u001b[49m\u001b[43m)\u001b[49m\n\u001b[1;32m   6276\u001b[0m \u001b[38;5;66;03m# return a slice\u001b[39;00m\n\u001b[1;32m   6277\u001b[0m \u001b[38;5;28;01mif\u001b[39;00m \u001b[38;5;129;01mnot\u001b[39;00m is_scalar(start_slice):\n",
      "File \u001b[0;32m~/miniforge3/envs/fc/lib/python3.8/site-packages/pandas/core/indexes/base.py:6484\u001b[0m, in \u001b[0;36mIndex.slice_locs\u001b[0;34m(self, start, end, step, kind)\u001b[0m\n\u001b[1;32m   6482\u001b[0m start_slice \u001b[38;5;241m=\u001b[39m \u001b[38;5;28;01mNone\u001b[39;00m\n\u001b[1;32m   6483\u001b[0m \u001b[38;5;28;01mif\u001b[39;00m start \u001b[38;5;129;01mis\u001b[39;00m \u001b[38;5;129;01mnot\u001b[39;00m \u001b[38;5;28;01mNone\u001b[39;00m:\n\u001b[0;32m-> 6484\u001b[0m     start_slice \u001b[38;5;241m=\u001b[39m \u001b[38;5;28;43mself\u001b[39;49m\u001b[38;5;241;43m.\u001b[39;49m\u001b[43mget_slice_bound\u001b[49m\u001b[43m(\u001b[49m\u001b[43mstart\u001b[49m\u001b[43m,\u001b[49m\u001b[43m \u001b[49m\u001b[38;5;124;43m\"\u001b[39;49m\u001b[38;5;124;43mleft\u001b[39;49m\u001b[38;5;124;43m\"\u001b[39;49m\u001b[43m)\u001b[49m\n\u001b[1;32m   6485\u001b[0m \u001b[38;5;28;01mif\u001b[39;00m start_slice \u001b[38;5;129;01mis\u001b[39;00m \u001b[38;5;28;01mNone\u001b[39;00m:\n\u001b[1;32m   6486\u001b[0m     start_slice \u001b[38;5;241m=\u001b[39m \u001b[38;5;241m0\u001b[39m\n",
      "File \u001b[0;32m~/miniforge3/envs/fc/lib/python3.8/site-packages/pandas/core/indexes/base.py:6403\u001b[0m, in \u001b[0;36mIndex.get_slice_bound\u001b[0;34m(self, label, side, kind)\u001b[0m\n\u001b[1;32m   6400\u001b[0m         \u001b[38;5;28;01mreturn\u001b[39;00m \u001b[38;5;28mself\u001b[39m\u001b[38;5;241m.\u001b[39m_searchsorted_monotonic(label, side)\n\u001b[1;32m   6401\u001b[0m     \u001b[38;5;28;01mexcept\u001b[39;00m \u001b[38;5;167;01mValueError\u001b[39;00m:\n\u001b[1;32m   6402\u001b[0m         \u001b[38;5;66;03m# raise the original KeyError\u001b[39;00m\n\u001b[0;32m-> 6403\u001b[0m         \u001b[38;5;28;01mraise\u001b[39;00m err\n\u001b[1;32m   6405\u001b[0m \u001b[38;5;28;01mif\u001b[39;00m \u001b[38;5;28misinstance\u001b[39m(slc, np\u001b[38;5;241m.\u001b[39mndarray):\n\u001b[1;32m   6406\u001b[0m     \u001b[38;5;66;03m# get_loc may return a boolean array, which\u001b[39;00m\n\u001b[1;32m   6407\u001b[0m     \u001b[38;5;66;03m# is OK as long as they are representable by a slice.\u001b[39;00m\n\u001b[1;32m   6408\u001b[0m     \u001b[38;5;28;01massert\u001b[39;00m is_bool_dtype(slc\u001b[38;5;241m.\u001b[39mdtype)\n",
      "File \u001b[0;32m~/miniforge3/envs/fc/lib/python3.8/site-packages/pandas/core/indexes/base.py:6397\u001b[0m, in \u001b[0;36mIndex.get_slice_bound\u001b[0;34m(self, label, side, kind)\u001b[0m\n\u001b[1;32m   6395\u001b[0m \u001b[38;5;66;03m# we need to look up the label\u001b[39;00m\n\u001b[1;32m   6396\u001b[0m \u001b[38;5;28;01mtry\u001b[39;00m:\n\u001b[0;32m-> 6397\u001b[0m     slc \u001b[38;5;241m=\u001b[39m \u001b[38;5;28;43mself\u001b[39;49m\u001b[38;5;241;43m.\u001b[39;49m\u001b[43mget_loc\u001b[49m\u001b[43m(\u001b[49m\u001b[43mlabel\u001b[49m\u001b[43m)\u001b[49m\n\u001b[1;32m   6398\u001b[0m \u001b[38;5;28;01mexcept\u001b[39;00m \u001b[38;5;167;01mKeyError\u001b[39;00m \u001b[38;5;28;01mas\u001b[39;00m err:\n\u001b[1;32m   6399\u001b[0m     \u001b[38;5;28;01mtry\u001b[39;00m:\n",
      "File \u001b[0;32m~/miniforge3/envs/fc/lib/python3.8/site-packages/pandas/core/indexes/base.py:3623\u001b[0m, in \u001b[0;36mIndex.get_loc\u001b[0;34m(self, key, method, tolerance)\u001b[0m\n\u001b[1;32m   3621\u001b[0m     \u001b[38;5;28;01mreturn\u001b[39;00m \u001b[38;5;28mself\u001b[39m\u001b[38;5;241m.\u001b[39m_engine\u001b[38;5;241m.\u001b[39mget_loc(casted_key)\n\u001b[1;32m   3622\u001b[0m \u001b[38;5;28;01mexcept\u001b[39;00m \u001b[38;5;167;01mKeyError\u001b[39;00m \u001b[38;5;28;01mas\u001b[39;00m err:\n\u001b[0;32m-> 3623\u001b[0m     \u001b[38;5;28;01mraise\u001b[39;00m \u001b[38;5;167;01mKeyError\u001b[39;00m(key) \u001b[38;5;28;01mfrom\u001b[39;00m \u001b[38;5;21;01merr\u001b[39;00m\n\u001b[1;32m   3624\u001b[0m \u001b[38;5;28;01mexcept\u001b[39;00m \u001b[38;5;167;01mTypeError\u001b[39;00m:\n\u001b[1;32m   3625\u001b[0m     \u001b[38;5;66;03m# If we have a listlike key, _check_indexing_error will raise\u001b[39;00m\n\u001b[1;32m   3626\u001b[0m     \u001b[38;5;66;03m#  InvalidIndexError. Otherwise we fall through and re-raise\u001b[39;00m\n\u001b[1;32m   3627\u001b[0m     \u001b[38;5;66;03m#  the TypeError.\u001b[39;00m\n\u001b[1;32m   3628\u001b[0m     \u001b[38;5;28mself\u001b[39m\u001b[38;5;241m.\u001b[39m_check_indexing_error(key)\n",
      "\u001b[0;31mKeyError\u001b[0m: 'V12'"
     ]
    }
   ],
   "source": [
    "# v's pca \n",
    "from sklearn.preprocessing import StandardScaler\n",
    "\n",
    "v_train = train.loc[:,'V12':'V321']\n",
    "v_train = v_train.fillna(-999)\n",
    "v_train = StandardScaler().fit_transform(v_train)\n",
    "v_test = test.loc[:,'V12':'V321']\n",
    "v_test = v_test.fillna(-999)\n",
    "v_test = StandardScaler().fit_transform(v_test)\n",
    "\n",
    "\n",
    "columns = ['PCA_V1','PCA_V2','PCA_V3','PCA_V4','PCA_V5','PCA_V6','PCA_V7','PCA_V8','PCA_V9','PCA_V10','PCA_V11','PCA_V12','PCA_V13','PCA_V14','PCA_V15','PCA_V16','PCA_V17','PCA_V18','PCA_V19','PCA_V20','PCA_V21','PCA_V22','PCA_V23','PCA_V24','PCA_V25','PCA_V26','PCA_V27','PCA_V28','PCA_V29','PCA_V30']\n",
    "from sklearn.decomposition import PCA\n",
    "\n",
    "pca = PCA(n_components=30)\n",
    "principalComponents_train = pca.fit_transform(v_train)\n",
    "principalDF_train = pd.DataFrame(data=principalComponents_train,columns=columns)\n",
    "principalComponents_test = pca.fit_transform(v_test)\n",
    "principalDF_test = pd.DataFrame(data=principalComponents_test,columns=columns)\n",
    "\n",
    "train = train.drop(train.loc[:,'V12':'V321'].columns,axis=1)\n",
    "test = test.drop(test.loc[:,'V12':'V321'].columns,axis=1)\n",
    "\n",
    "train = pd.concat([train,principalDF_train],axis=1)\n",
    "test = pd.concat([test,principalDF_test],axis=1)"
   ]
  },
  {
   "cell_type": "code",
   "execution_count": 25,
   "id": "b9c33ba1",
   "metadata": {},
   "outputs": [],
   "source": [
    "x_train = train.drop('isFraud',axis=1)\n",
    "y_train = train['isFraud']"
   ]
  },
  {
   "cell_type": "code",
   "execution_count": 26,
   "id": "910234fc",
   "metadata": {},
   "outputs": [],
   "source": [
    "from sklearn.model_selection import train_test_split\n",
    "X_train, x_val, Y_train, y_val = train_test_split(x_train,y_train, test_size=0.2, random_state=0xC0FFEE)  # 42, 0xC0FFEE"
   ]
  },
  {
   "cell_type": "code",
   "execution_count": 27,
   "id": "c318a2cd",
   "metadata": {},
   "outputs": [
    {
     "name": "stdout",
     "output_type": "stream",
     "text": [
      "오차 행렬\n",
      "[[113826      9]\n",
      " [   435   3838]]\n",
      "정확도:0.9962, 정밀도:0.9977, 재현율:0.8982\n"
     ]
    }
   ],
   "source": [
    "lgbm_clf = LGBMClassifier(n_estimators=1000,num_leaves=64,n_jobs=-1,boost_from_average=False)\n",
    "get_model_train_eval(lgbm_clf,ftr_train=x_train,ftr_test=x_val,tgt_train=y_train,tgt_test=y_val)"
   ]
  },
  {
   "cell_type": "markdown",
   "id": "84536aaf",
   "metadata": {},
   "source": [
    "# CV 세트 기반의 스태킹"
   ]
  },
  {
   "cell_type": "code",
   "execution_count": 57,
   "id": "9db50a8f",
   "metadata": {},
   "outputs": [],
   "source": [
    "from sklearn.neighbors import KNeighborsClassifier\n",
    "from sklearn.ensemble import RandomForestClassifier\n",
    "from sklearn.ensemble import AdaBoostClassifier\n",
    "from sklearn.tree import DecisionTreeClassifier\n",
    "\n",
    "knn_clf  = KNeighborsClassifier(n_neighbors=4)\n",
    "rf_clf = RandomForestClassifier(n_estimators=100, random_state=0)\n",
    "dt_clf = DecisionTreeClassifier()\n",
    "ada_clf = AdaBoostClassifier(n_estimators=100)\n"
   ]
  },
  {
   "cell_type": "code",
   "execution_count": 58,
   "id": "933bbad8",
   "metadata": {},
   "outputs": [],
   "source": [
    "x_train = train.drop('isFraud',axis=1)\n",
    "y_train = train['isFraud']"
   ]
  },
  {
   "cell_type": "code",
   "execution_count": 83,
   "id": "5432fa52",
   "metadata": {},
   "outputs": [
    {
     "data": {
      "text/html": [
       "<div>\n",
       "<style scoped>\n",
       "    .dataframe tbody tr th:only-of-type {\n",
       "        vertical-align: middle;\n",
       "    }\n",
       "\n",
       "    .dataframe tbody tr th {\n",
       "        vertical-align: top;\n",
       "    }\n",
       "\n",
       "    .dataframe thead th {\n",
       "        text-align: right;\n",
       "    }\n",
       "</style>\n",
       "<table border=\"1\" class=\"dataframe\">\n",
       "  <thead>\n",
       "    <tr style=\"text-align: right;\">\n",
       "      <th></th>\n",
       "      <th>TransactionID</th>\n",
       "      <th>TransactionDT</th>\n",
       "      <th>TransactionAmt</th>\n",
       "      <th>ProductCD</th>\n",
       "      <th>card1</th>\n",
       "      <th>card2</th>\n",
       "      <th>card3</th>\n",
       "      <th>card4</th>\n",
       "      <th>card5</th>\n",
       "      <th>card6</th>\n",
       "      <th>...</th>\n",
       "      <th>PCA_V21</th>\n",
       "      <th>PCA_V22</th>\n",
       "      <th>PCA_V23</th>\n",
       "      <th>PCA_V24</th>\n",
       "      <th>PCA_V25</th>\n",
       "      <th>PCA_V26</th>\n",
       "      <th>PCA_V27</th>\n",
       "      <th>PCA_V28</th>\n",
       "      <th>PCA_V29</th>\n",
       "      <th>PCA_V30</th>\n",
       "    </tr>\n",
       "  </thead>\n",
       "  <tbody>\n",
       "    <tr>\n",
       "      <th>0</th>\n",
       "      <td>3663549</td>\n",
       "      <td>18403224</td>\n",
       "      <td>3.494991</td>\n",
       "      <td>4</td>\n",
       "      <td>10409</td>\n",
       "      <td>111.0</td>\n",
       "      <td>150.0</td>\n",
       "      <td>3</td>\n",
       "      <td>226.0</td>\n",
       "      <td>2</td>\n",
       "      <td>...</td>\n",
       "      <td>-2.541706</td>\n",
       "      <td>-4.413899</td>\n",
       "      <td>-1.368068</td>\n",
       "      <td>2.588336</td>\n",
       "      <td>2.059592</td>\n",
       "      <td>-2.214132</td>\n",
       "      <td>0.375738</td>\n",
       "      <td>-1.243150</td>\n",
       "      <td>0.073273</td>\n",
       "      <td>0.130684</td>\n",
       "    </tr>\n",
       "    <tr>\n",
       "      <th>1</th>\n",
       "      <td>3663550</td>\n",
       "      <td>18403263</td>\n",
       "      <td>3.912023</td>\n",
       "      <td>4</td>\n",
       "      <td>4272</td>\n",
       "      <td>111.0</td>\n",
       "      <td>150.0</td>\n",
       "      <td>3</td>\n",
       "      <td>226.0</td>\n",
       "      <td>2</td>\n",
       "      <td>...</td>\n",
       "      <td>-0.462993</td>\n",
       "      <td>-0.047533</td>\n",
       "      <td>0.213201</td>\n",
       "      <td>0.321371</td>\n",
       "      <td>0.175268</td>\n",
       "      <td>-0.463016</td>\n",
       "      <td>0.263122</td>\n",
       "      <td>-0.267762</td>\n",
       "      <td>-0.424245</td>\n",
       "      <td>0.017900</td>\n",
       "    </tr>\n",
       "    <tr>\n",
       "      <th>2</th>\n",
       "      <td>3663551</td>\n",
       "      <td>18403310</td>\n",
       "      <td>5.147494</td>\n",
       "      <td>4</td>\n",
       "      <td>4476</td>\n",
       "      <td>574.0</td>\n",
       "      <td>150.0</td>\n",
       "      <td>3</td>\n",
       "      <td>226.0</td>\n",
       "      <td>2</td>\n",
       "      <td>...</td>\n",
       "      <td>0.367833</td>\n",
       "      <td>-0.275383</td>\n",
       "      <td>-0.998033</td>\n",
       "      <td>1.839403</td>\n",
       "      <td>0.740493</td>\n",
       "      <td>-1.230587</td>\n",
       "      <td>0.501257</td>\n",
       "      <td>-0.640235</td>\n",
       "      <td>0.628991</td>\n",
       "      <td>0.099645</td>\n",
       "    </tr>\n",
       "    <tr>\n",
       "      <th>3</th>\n",
       "      <td>3663552</td>\n",
       "      <td>18403310</td>\n",
       "      <td>5.655817</td>\n",
       "      <td>4</td>\n",
       "      <td>10989</td>\n",
       "      <td>360.0</td>\n",
       "      <td>150.0</td>\n",
       "      <td>3</td>\n",
       "      <td>166.0</td>\n",
       "      <td>2</td>\n",
       "      <td>...</td>\n",
       "      <td>0.519898</td>\n",
       "      <td>0.236236</td>\n",
       "      <td>-0.340207</td>\n",
       "      <td>0.090790</td>\n",
       "      <td>-0.202748</td>\n",
       "      <td>-0.111730</td>\n",
       "      <td>0.368394</td>\n",
       "      <td>0.048229</td>\n",
       "      <td>-0.490259</td>\n",
       "      <td>-0.003657</td>\n",
       "    </tr>\n",
       "    <tr>\n",
       "      <th>4</th>\n",
       "      <td>3663553</td>\n",
       "      <td>18403317</td>\n",
       "      <td>4.233382</td>\n",
       "      <td>4</td>\n",
       "      <td>18018</td>\n",
       "      <td>452.0</td>\n",
       "      <td>150.0</td>\n",
       "      <td>2</td>\n",
       "      <td>117.0</td>\n",
       "      <td>2</td>\n",
       "      <td>...</td>\n",
       "      <td>1.951943</td>\n",
       "      <td>0.170897</td>\n",
       "      <td>0.130699</td>\n",
       "      <td>-0.294763</td>\n",
       "      <td>-0.740462</td>\n",
       "      <td>1.061017</td>\n",
       "      <td>-0.559347</td>\n",
       "      <td>0.526107</td>\n",
       "      <td>1.678918</td>\n",
       "      <td>0.005227</td>\n",
       "    </tr>\n",
       "    <tr>\n",
       "      <th>...</th>\n",
       "      <td>...</td>\n",
       "      <td>...</td>\n",
       "      <td>...</td>\n",
       "      <td>...</td>\n",
       "      <td>...</td>\n",
       "      <td>...</td>\n",
       "      <td>...</td>\n",
       "      <td>...</td>\n",
       "      <td>...</td>\n",
       "      <td>...</td>\n",
       "      <td>...</td>\n",
       "      <td>...</td>\n",
       "      <td>...</td>\n",
       "      <td>...</td>\n",
       "      <td>...</td>\n",
       "      <td>...</td>\n",
       "      <td>...</td>\n",
       "      <td>...</td>\n",
       "      <td>...</td>\n",
       "      <td>...</td>\n",
       "      <td>...</td>\n",
       "    </tr>\n",
       "    <tr>\n",
       "      <th>506686</th>\n",
       "      <td>4170235</td>\n",
       "      <td>34214279</td>\n",
       "      <td>4.560999</td>\n",
       "      <td>0</td>\n",
       "      <td>13832</td>\n",
       "      <td>375.0</td>\n",
       "      <td>185.0</td>\n",
       "      <td>2</td>\n",
       "      <td>224.0</td>\n",
       "      <td>2</td>\n",
       "      <td>...</td>\n",
       "      <td>-3.174117</td>\n",
       "      <td>-0.387888</td>\n",
       "      <td>0.366156</td>\n",
       "      <td>-0.061504</td>\n",
       "      <td>-0.057962</td>\n",
       "      <td>0.135373</td>\n",
       "      <td>-0.057691</td>\n",
       "      <td>-0.029002</td>\n",
       "      <td>0.046685</td>\n",
       "      <td>0.035598</td>\n",
       "    </tr>\n",
       "    <tr>\n",
       "      <th>506687</th>\n",
       "      <td>4170236</td>\n",
       "      <td>34214287</td>\n",
       "      <td>2.578169</td>\n",
       "      <td>0</td>\n",
       "      <td>3154</td>\n",
       "      <td>408.0</td>\n",
       "      <td>185.0</td>\n",
       "      <td>2</td>\n",
       "      <td>224.0</td>\n",
       "      <td>2</td>\n",
       "      <td>...</td>\n",
       "      <td>-0.107834</td>\n",
       "      <td>-0.391294</td>\n",
       "      <td>-0.627349</td>\n",
       "      <td>-0.315318</td>\n",
       "      <td>1.121349</td>\n",
       "      <td>-1.063174</td>\n",
       "      <td>-1.208455</td>\n",
       "      <td>-0.898189</td>\n",
       "      <td>0.611823</td>\n",
       "      <td>-0.167170</td>\n",
       "    </tr>\n",
       "    <tr>\n",
       "      <th>506688</th>\n",
       "      <td>4170237</td>\n",
       "      <td>34214326</td>\n",
       "      <td>3.912023</td>\n",
       "      <td>4</td>\n",
       "      <td>16661</td>\n",
       "      <td>490.0</td>\n",
       "      <td>150.0</td>\n",
       "      <td>3</td>\n",
       "      <td>226.0</td>\n",
       "      <td>2</td>\n",
       "      <td>...</td>\n",
       "      <td>0.417915</td>\n",
       "      <td>0.134416</td>\n",
       "      <td>0.028321</td>\n",
       "      <td>0.029680</td>\n",
       "      <td>0.141157</td>\n",
       "      <td>-0.068056</td>\n",
       "      <td>0.001012</td>\n",
       "      <td>0.016266</td>\n",
       "      <td>0.100591</td>\n",
       "      <td>0.013396</td>\n",
       "    </tr>\n",
       "    <tr>\n",
       "      <th>506689</th>\n",
       "      <td>4170238</td>\n",
       "      <td>34214337</td>\n",
       "      <td>5.313206</td>\n",
       "      <td>4</td>\n",
       "      <td>16621</td>\n",
       "      <td>516.0</td>\n",
       "      <td>150.0</td>\n",
       "      <td>2</td>\n",
       "      <td>224.0</td>\n",
       "      <td>2</td>\n",
       "      <td>...</td>\n",
       "      <td>0.417915</td>\n",
       "      <td>0.134416</td>\n",
       "      <td>0.028321</td>\n",
       "      <td>0.029680</td>\n",
       "      <td>0.141157</td>\n",
       "      <td>-0.068056</td>\n",
       "      <td>0.001012</td>\n",
       "      <td>0.016266</td>\n",
       "      <td>0.100591</td>\n",
       "      <td>0.013396</td>\n",
       "    </tr>\n",
       "    <tr>\n",
       "      <th>506690</th>\n",
       "      <td>4170239</td>\n",
       "      <td>34214345</td>\n",
       "      <td>3.232621</td>\n",
       "      <td>0</td>\n",
       "      <td>5713</td>\n",
       "      <td>168.0</td>\n",
       "      <td>144.0</td>\n",
       "      <td>3</td>\n",
       "      <td>147.0</td>\n",
       "      <td>1</td>\n",
       "      <td>...</td>\n",
       "      <td>-0.128199</td>\n",
       "      <td>-0.442955</td>\n",
       "      <td>0.110782</td>\n",
       "      <td>-0.122866</td>\n",
       "      <td>0.096063</td>\n",
       "      <td>0.132429</td>\n",
       "      <td>0.121152</td>\n",
       "      <td>0.116005</td>\n",
       "      <td>-0.218109</td>\n",
       "      <td>0.018362</td>\n",
       "    </tr>\n",
       "  </tbody>\n",
       "</table>\n",
       "<p>506691 rows × 77 columns</p>\n",
       "</div>"
      ],
      "text/plain": [
       "        TransactionID  TransactionDT  TransactionAmt  ProductCD  card1  card2  \\\n",
       "0             3663549       18403224        3.494991          4  10409  111.0   \n",
       "1             3663550       18403263        3.912023          4   4272  111.0   \n",
       "2             3663551       18403310        5.147494          4   4476  574.0   \n",
       "3             3663552       18403310        5.655817          4  10989  360.0   \n",
       "4             3663553       18403317        4.233382          4  18018  452.0   \n",
       "...               ...            ...             ...        ...    ...    ...   \n",
       "506686        4170235       34214279        4.560999          0  13832  375.0   \n",
       "506687        4170236       34214287        2.578169          0   3154  408.0   \n",
       "506688        4170237       34214326        3.912023          4  16661  490.0   \n",
       "506689        4170238       34214337        5.313206          4  16621  516.0   \n",
       "506690        4170239       34214345        3.232621          0   5713  168.0   \n",
       "\n",
       "        card3  card4  card5  card6  ...   PCA_V21   PCA_V22   PCA_V23  \\\n",
       "0       150.0      3  226.0      2  ... -2.541706 -4.413899 -1.368068   \n",
       "1       150.0      3  226.0      2  ... -0.462993 -0.047533  0.213201   \n",
       "2       150.0      3  226.0      2  ...  0.367833 -0.275383 -0.998033   \n",
       "3       150.0      3  166.0      2  ...  0.519898  0.236236 -0.340207   \n",
       "4       150.0      2  117.0      2  ...  1.951943  0.170897  0.130699   \n",
       "...       ...    ...    ...    ...  ...       ...       ...       ...   \n",
       "506686  185.0      2  224.0      2  ... -3.174117 -0.387888  0.366156   \n",
       "506687  185.0      2  224.0      2  ... -0.107834 -0.391294 -0.627349   \n",
       "506688  150.0      3  226.0      2  ...  0.417915  0.134416  0.028321   \n",
       "506689  150.0      2  224.0      2  ...  0.417915  0.134416  0.028321   \n",
       "506690  144.0      3  147.0      1  ... -0.128199 -0.442955  0.110782   \n",
       "\n",
       "         PCA_V24   PCA_V25   PCA_V26   PCA_V27   PCA_V28   PCA_V29   PCA_V30  \n",
       "0       2.588336  2.059592 -2.214132  0.375738 -1.243150  0.073273  0.130684  \n",
       "1       0.321371  0.175268 -0.463016  0.263122 -0.267762 -0.424245  0.017900  \n",
       "2       1.839403  0.740493 -1.230587  0.501257 -0.640235  0.628991  0.099645  \n",
       "3       0.090790 -0.202748 -0.111730  0.368394  0.048229 -0.490259 -0.003657  \n",
       "4      -0.294763 -0.740462  1.061017 -0.559347  0.526107  1.678918  0.005227  \n",
       "...          ...       ...       ...       ...       ...       ...       ...  \n",
       "506686 -0.061504 -0.057962  0.135373 -0.057691 -0.029002  0.046685  0.035598  \n",
       "506687 -0.315318  1.121349 -1.063174 -1.208455 -0.898189  0.611823 -0.167170  \n",
       "506688  0.029680  0.141157 -0.068056  0.001012  0.016266  0.100591  0.013396  \n",
       "506689  0.029680  0.141157 -0.068056  0.001012  0.016266  0.100591  0.013396  \n",
       "506690 -0.122866  0.096063  0.132429  0.121152  0.116005 -0.218109  0.018362  \n",
       "\n",
       "[506691 rows x 77 columns]"
      ]
     },
     "execution_count": 83,
     "metadata": {},
     "output_type": "execute_result"
    }
   ],
   "source": [
    "x_train.reset_index(drop=True)\n",
    "test.reset_index(drop=True)"
   ]
  },
  {
   "cell_type": "code",
   "execution_count": 84,
   "id": "040cb168",
   "metadata": {},
   "outputs": [],
   "source": [
    "from sklearn.model_selection import KFold\n",
    "from sklearn.metrics import mean_absolute_error\n",
    "\n",
    "# 개별 기반 모델에서 최종 메타 모델이 사용할 학습 및 테스트용 데이터를 생성하기 위한 함수. \n",
    "def get_stacking_base_datasets(model, X_train_n, y_train_n, X_test_n, n_folds ):\n",
    "    # 지정된 n_folds값으로 KFold 생성.\n",
    "    kf = KFold(n_splits=n_folds, shuffle=False)\n",
    "    #추후에 메타 모델이 사용할 학습 데이터 반환을 위한 넘파이 배열 초기화 \n",
    "    train_fold_pred = np.zeros((X_train_n.shape[0] ,1 ))\n",
    "    test_pred = np.zeros((X_test_n.shape[0],n_folds))\n",
    "    print(model.__class__.__name__ , ' model 시작 ')\n",
    "    \n",
    "    for folder_counter , (train_index, valid_index) in enumerate(kf.split(X_train_n)):\n",
    "        #입력된 학습 데이터에서 기반 모델이 학습/예측할 폴드 데이터 셋 추출 \n",
    "        print('\\t 폴드 세트: ',folder_counter,' 시작 ')\n",
    "        \n",
    "        X_tr = X_train_n[train_index] \n",
    "        y_tr = y_train_n[train_index] \n",
    "        X_te = X_train_n[valid_index]  \n",
    "        \n",
    "        #폴드 세트 내부에서 다시 만들어진 학습 데이터로 기반 모델의 학습 수행.\n",
    "        model.fit(X_tr , y_tr)       \n",
    "        #폴드 세트 내부에서 다시 만들어진 검증 데이터로 기반 모델 예측 후 데이터 저장.\n",
    "        train_fold_pred[valid_index, :] = model.predict(X_te).reshape(-1,1)\n",
    "        #입력된 원본 테스트 데이터를 폴드 세트내 학습된 기반 모델에서 예측 후 데이터 저장. \n",
    "        test_pred[:, folder_counter] = model.predict(X_test_n)\n",
    "            \n",
    "    # 폴드 세트 내에서 원본 테스트 데이터를 예측한 데이터를 평균하여 테스트 데이터로 생성 \n",
    "    test_pred_mean = np.mean(test_pred, axis=1).reshape(-1,1)    \n",
    "    \n",
    "    #train_fold_pred는 최종 메타 모델이 사용하는 학습 데이터, test_pred_mean은 테스트 데이터\n",
    "    return train_fold_pred , test_pred_mean"
   ]
  },
  {
   "cell_type": "code",
   "execution_count": 85,
   "id": "7cb3d179",
   "metadata": {},
   "outputs": [
    {
     "name": "stdout",
     "output_type": "stream",
     "text": [
      "KNeighborsClassifier  model 시작 \n",
      "\t 폴드 세트:  0  시작 \n"
     ]
    },
    {
     "ename": "KeyError",
     "evalue": "\"None of [Int64Index([ 84363,  84364,  84365,  84366,  84367,  84368,  84369,  84370,\\n             84371,  84372,\\n            ...\\n            590530, 590531, 590532, 590533, 590534, 590535, 590536, 590537,\\n            590538, 590539],\\n           dtype='int64', length=506177)] are in the [columns]\"",
     "output_type": "error",
     "traceback": [
      "\u001b[0;31m---------------------------------------------------------------------------\u001b[0m",
      "\u001b[0;31mKeyError\u001b[0m                                  Traceback (most recent call last)",
      "Input \u001b[0;32mIn [85]\u001b[0m, in \u001b[0;36m<cell line: 1>\u001b[0;34m()\u001b[0m\n\u001b[0;32m----> 1\u001b[0m knn_train, knn_test \u001b[38;5;241m=\u001b[39m \u001b[43mget_stacking_base_datasets\u001b[49m\u001b[43m(\u001b[49m\u001b[43mknn_clf\u001b[49m\u001b[43m,\u001b[49m\u001b[43m \u001b[49m\u001b[43mx_train\u001b[49m\u001b[43m,\u001b[49m\u001b[43m \u001b[49m\u001b[43my_train\u001b[49m\u001b[43m,\u001b[49m\u001b[43m \u001b[49m\u001b[43mtest\u001b[49m\u001b[43m,\u001b[49m\u001b[43m \u001b[49m\u001b[38;5;241;43m7\u001b[39;49m\u001b[43m)\u001b[49m\n\u001b[1;32m      2\u001b[0m rf_train, rf_test \u001b[38;5;241m=\u001b[39m get_stacking_base_datasets(rf_clf, x_train, y_train, test, \u001b[38;5;241m7\u001b[39m)\n\u001b[1;32m      3\u001b[0m dt_train, dt_test \u001b[38;5;241m=\u001b[39m get_stacking_base_datasets(dt_clf, x_train, y_train, test,  \u001b[38;5;241m7\u001b[39m)    \n",
      "Input \u001b[0;32mIn [84]\u001b[0m, in \u001b[0;36mget_stacking_base_datasets\u001b[0;34m(model, X_train_n, y_train_n, X_test_n, n_folds)\u001b[0m\n\u001b[1;32m     13\u001b[0m \u001b[38;5;28;01mfor\u001b[39;00m folder_counter , (train_index, valid_index) \u001b[38;5;129;01min\u001b[39;00m \u001b[38;5;28menumerate\u001b[39m(kf\u001b[38;5;241m.\u001b[39msplit(X_train_n)):\n\u001b[1;32m     14\u001b[0m     \u001b[38;5;66;03m#입력된 학습 데이터에서 기반 모델이 학습/예측할 폴드 데이터 셋 추출 \u001b[39;00m\n\u001b[1;32m     15\u001b[0m     \u001b[38;5;28mprint\u001b[39m(\u001b[38;5;124m'\u001b[39m\u001b[38;5;130;01m\\t\u001b[39;00m\u001b[38;5;124m 폴드 세트: \u001b[39m\u001b[38;5;124m'\u001b[39m,folder_counter,\u001b[38;5;124m'\u001b[39m\u001b[38;5;124m 시작 \u001b[39m\u001b[38;5;124m'\u001b[39m)\n\u001b[0;32m---> 17\u001b[0m     X_tr \u001b[38;5;241m=\u001b[39m \u001b[43mX_train_n\u001b[49m\u001b[43m[\u001b[49m\u001b[43mtrain_index\u001b[49m\u001b[43m]\u001b[49m \n\u001b[1;32m     18\u001b[0m     y_tr \u001b[38;5;241m=\u001b[39m y_train_n[train_index] \n\u001b[1;32m     19\u001b[0m     X_te \u001b[38;5;241m=\u001b[39m X_train_n[valid_index]  \n",
      "File \u001b[0;32m~/miniforge3/envs/fc/lib/python3.8/site-packages/pandas/core/frame.py:3511\u001b[0m, in \u001b[0;36mDataFrame.__getitem__\u001b[0;34m(self, key)\u001b[0m\n\u001b[1;32m   3509\u001b[0m     \u001b[38;5;28;01mif\u001b[39;00m is_iterator(key):\n\u001b[1;32m   3510\u001b[0m         key \u001b[38;5;241m=\u001b[39m \u001b[38;5;28mlist\u001b[39m(key)\n\u001b[0;32m-> 3511\u001b[0m     indexer \u001b[38;5;241m=\u001b[39m \u001b[38;5;28;43mself\u001b[39;49m\u001b[38;5;241;43m.\u001b[39;49m\u001b[43mcolumns\u001b[49m\u001b[38;5;241;43m.\u001b[39;49m\u001b[43m_get_indexer_strict\u001b[49m\u001b[43m(\u001b[49m\u001b[43mkey\u001b[49m\u001b[43m,\u001b[49m\u001b[43m \u001b[49m\u001b[38;5;124;43m\"\u001b[39;49m\u001b[38;5;124;43mcolumns\u001b[39;49m\u001b[38;5;124;43m\"\u001b[39;49m\u001b[43m)\u001b[49m[\u001b[38;5;241m1\u001b[39m]\n\u001b[1;32m   3513\u001b[0m \u001b[38;5;66;03m# take() does not accept boolean indexers\u001b[39;00m\n\u001b[1;32m   3514\u001b[0m \u001b[38;5;28;01mif\u001b[39;00m \u001b[38;5;28mgetattr\u001b[39m(indexer, \u001b[38;5;124m\"\u001b[39m\u001b[38;5;124mdtype\u001b[39m\u001b[38;5;124m\"\u001b[39m, \u001b[38;5;28;01mNone\u001b[39;00m) \u001b[38;5;241m==\u001b[39m \u001b[38;5;28mbool\u001b[39m:\n",
      "File \u001b[0;32m~/miniforge3/envs/fc/lib/python3.8/site-packages/pandas/core/indexes/base.py:5782\u001b[0m, in \u001b[0;36mIndex._get_indexer_strict\u001b[0;34m(self, key, axis_name)\u001b[0m\n\u001b[1;32m   5779\u001b[0m \u001b[38;5;28;01melse\u001b[39;00m:\n\u001b[1;32m   5780\u001b[0m     keyarr, indexer, new_indexer \u001b[38;5;241m=\u001b[39m \u001b[38;5;28mself\u001b[39m\u001b[38;5;241m.\u001b[39m_reindex_non_unique(keyarr)\n\u001b[0;32m-> 5782\u001b[0m \u001b[38;5;28;43mself\u001b[39;49m\u001b[38;5;241;43m.\u001b[39;49m\u001b[43m_raise_if_missing\u001b[49m\u001b[43m(\u001b[49m\u001b[43mkeyarr\u001b[49m\u001b[43m,\u001b[49m\u001b[43m \u001b[49m\u001b[43mindexer\u001b[49m\u001b[43m,\u001b[49m\u001b[43m \u001b[49m\u001b[43maxis_name\u001b[49m\u001b[43m)\u001b[49m\n\u001b[1;32m   5784\u001b[0m keyarr \u001b[38;5;241m=\u001b[39m \u001b[38;5;28mself\u001b[39m\u001b[38;5;241m.\u001b[39mtake(indexer)\n\u001b[1;32m   5785\u001b[0m \u001b[38;5;28;01mif\u001b[39;00m \u001b[38;5;28misinstance\u001b[39m(key, Index):\n\u001b[1;32m   5786\u001b[0m     \u001b[38;5;66;03m# GH 42790 - Preserve name from an Index\u001b[39;00m\n",
      "File \u001b[0;32m~/miniforge3/envs/fc/lib/python3.8/site-packages/pandas/core/indexes/base.py:5842\u001b[0m, in \u001b[0;36mIndex._raise_if_missing\u001b[0;34m(self, key, indexer, axis_name)\u001b[0m\n\u001b[1;32m   5840\u001b[0m     \u001b[38;5;28;01mif\u001b[39;00m use_interval_msg:\n\u001b[1;32m   5841\u001b[0m         key \u001b[38;5;241m=\u001b[39m \u001b[38;5;28mlist\u001b[39m(key)\n\u001b[0;32m-> 5842\u001b[0m     \u001b[38;5;28;01mraise\u001b[39;00m \u001b[38;5;167;01mKeyError\u001b[39;00m(\u001b[38;5;124mf\u001b[39m\u001b[38;5;124m\"\u001b[39m\u001b[38;5;124mNone of [\u001b[39m\u001b[38;5;132;01m{\u001b[39;00mkey\u001b[38;5;132;01m}\u001b[39;00m\u001b[38;5;124m] are in the [\u001b[39m\u001b[38;5;132;01m{\u001b[39;00maxis_name\u001b[38;5;132;01m}\u001b[39;00m\u001b[38;5;124m]\u001b[39m\u001b[38;5;124m\"\u001b[39m)\n\u001b[1;32m   5844\u001b[0m not_found \u001b[38;5;241m=\u001b[39m \u001b[38;5;28mlist\u001b[39m(ensure_index(key)[missing_mask\u001b[38;5;241m.\u001b[39mnonzero()[\u001b[38;5;241m0\u001b[39m]]\u001b[38;5;241m.\u001b[39munique())\n\u001b[1;32m   5845\u001b[0m \u001b[38;5;28;01mraise\u001b[39;00m \u001b[38;5;167;01mKeyError\u001b[39;00m(\u001b[38;5;124mf\u001b[39m\u001b[38;5;124m\"\u001b[39m\u001b[38;5;132;01m{\u001b[39;00mnot_found\u001b[38;5;132;01m}\u001b[39;00m\u001b[38;5;124m not in index\u001b[39m\u001b[38;5;124m\"\u001b[39m)\n",
      "\u001b[0;31mKeyError\u001b[0m: \"None of [Int64Index([ 84363,  84364,  84365,  84366,  84367,  84368,  84369,  84370,\\n             84371,  84372,\\n            ...\\n            590530, 590531, 590532, 590533, 590534, 590535, 590536, 590537,\\n            590538, 590539],\\n           dtype='int64', length=506177)] are in the [columns]\""
     ]
    }
   ],
   "source": [
    "knn_train, knn_test = get_stacking_base_datasets(knn_clf, x_train, y_train, test, 7)\n",
    "rf_train, rf_test = get_stacking_base_datasets(rf_clf, x_train, y_train, test, 7)\n",
    "dt_train, dt_test = get_stacking_base_datasets(dt_clf, x_train, y_train, test,  7)    \n",
    "ada_train, ada_test = get_stacking_base_datasets(ada_clf, x_train, y_train, test, 7)"
   ]
  },
  {
   "cell_type": "code",
   "execution_count": null,
   "id": "874214fb",
   "metadata": {},
   "outputs": [],
   "source": [
    "Stack_final_X_train = np.concatenate((knn_train, rf_train, dt_train, ada_train), axis=1)\n",
    "Stack_final_X_test = np.concatenate((knn_test, rf_test, dt_test, ada_test), axis=1)\n",
    "print('원본 학습 피처 데이터 Shape:',X_train.shape, '원본 테스트 피처 Shape:',X_test.shape)\n",
    "print('스태킹 학습 피처 데이터 Shape:', Stack_final_X_train.shape,\n",
    "      '스태킹 테스트 피처 데이터 Shape:',Stack_final_X_test.shape)"
   ]
  },
  {
   "cell_type": "code",
   "execution_count": null,
   "id": "60b56289",
   "metadata": {},
   "outputs": [],
   "source": [
    "lr_final.fit(Stack_final_X_train, y_train)\n",
    "stack_final = lr_final.predict(Stack_final_X_test)\n",
    "\n",
    "print('최종 메타 모델의 예측 정확도: {0:.4f}'.format(accuracy_score(y_test, stack_final)))"
   ]
  }
 ],
 "metadata": {
  "kernelspec": {
   "display_name": "Python 3 (ipykernel)",
   "language": "python",
   "name": "python3"
  },
  "language_info": {
   "codemirror_mode": {
    "name": "ipython",
    "version": 3
   },
   "file_extension": ".py",
   "mimetype": "text/x-python",
   "name": "python",
   "nbconvert_exporter": "python",
   "pygments_lexer": "ipython3",
   "version": "3.8.13"
  }
 },
 "nbformat": 4,
 "nbformat_minor": 5
}
